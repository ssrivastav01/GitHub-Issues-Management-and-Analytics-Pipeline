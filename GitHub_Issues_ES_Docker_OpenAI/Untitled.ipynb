{
 "cells": [
  {
   "cell_type": "code",
   "execution_count": null,
   "id": "39c62763-18e1-4545-83fb-af544f9047c6",
   "metadata": {},
   "outputs": [],
   "source": [
    "#Install elastic search\n",
    "!pip install elasticsearch\n"
   ]
  },
  {
   "cell_type": "code",
   "execution_count": null,
   "id": "cb8180f5-4dbb-4084-8d79-0572a7af083f",
   "metadata": {},
   "outputs": [],
   "source": [
    "!pip install -q pandas openai"
   ]
  },
  {
   "cell_type": "code",
   "execution_count": null,
   "id": "bc647c59-13e1-423d-93c7-7256b0c2c9d8",
   "metadata": {},
   "outputs": [],
   "source": []
  }
 ],
 "metadata": {
  "kernelspec": {
   "display_name": "Python 3 (ipykernel)",
   "language": "python",
   "name": "python3"
  },
  "language_info": {
   "codemirror_mode": {
    "name": "ipython",
    "version": 3
   },
   "file_extension": ".py",
   "mimetype": "text/x-python",
   "name": "python",
   "nbconvert_exporter": "python",
   "pygments_lexer": "ipython3",
   "version": "3.9.6"
  }
 },
 "nbformat": 4,
 "nbformat_minor": 5
}
